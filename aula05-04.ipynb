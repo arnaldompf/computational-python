{
 "cells": [
  {
   "cell_type": "code",
   "execution_count": 1,
   "metadata": {},
   "outputs": [
    {
     "name": "stdout",
     "output_type": "stream",
     "text": [
      "Você está fora da faixa de idade para ter o desconto\n"
     ]
    }
   ],
   "source": [
    "idade = int(input(\"Insira a sua idade\"))\n",
    "total_compra = float(input(\"Insira o valor da sua compra\"))\n",
    "\n",
    "# ELegibilidade para desconto - ex.1\n",
    "\n",
    "if idade >= 65:\n",
    "    if total_compra >= 100:\n",
    "        print(\"Você terá 10% de desconto\")\n",
    "    else:\n",
    "        print(\"Você não tera direito ao desconto, por causa do valor da compra\")\n",
    "else:\n",
    "    print(\"Você está fora da faixa de idade para ter o desconto\")"
   ]
  },
  {
   "cell_type": "code",
   "execution_count": 2,
   "metadata": {},
   "outputs": [],
   "source": [
    "# ex. 2 - Crie um programa para solicitar idade do carro e marca do carro. Se a faixa de idade estiver entre \n",
    "# 2013 e 2015, solicite a marca do carro e, caso a marca do carro seja Volvo, print o carro é volto e foi\n",
    "# fabricado entre 2013 e 2015. Carro entre os anos 2013 e 2015, mas não é volto. Seu carro está fora da faixa dos anos.\n",
    "\n"
   ]
  },
  {
   "cell_type": "code",
   "execution_count": null,
   "metadata": {},
   "outputs": [],
   "source": [
    "# ex. 3 - Verificação de horário do dia e temperatura para sugerir uma atividade 6 <= hora < 12h e a temperatura > 20,\n",
    "# hora de fazer uma caminhada no parque.\n",
    "# Hora de tomar um café da manhã\n",
    "\n",
    "# 12 < hora < 18h e a temperatura > 25, Que tal um piquenique!.  \n",
    "# Hora de almoçar.\n",
    "\n",
    "# Hora de relaxar em casa. "
   ]
  }
 ],
 "metadata": {
  "kernelspec": {
   "display_name": "Python 3",
   "language": "python",
   "name": "python3"
  },
  "language_info": {
   "codemirror_mode": {
    "name": "ipython",
    "version": 3
   },
   "file_extension": ".py",
   "mimetype": "text/x-python",
   "name": "python",
   "nbconvert_exporter": "python",
   "pygments_lexer": "ipython3",
   "version": "3.9.6"
  }
 },
 "nbformat": 4,
 "nbformat_minor": 2
}
