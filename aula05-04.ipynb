{
 "cells": [
  {
   "cell_type": "code",
   "execution_count": 5,
   "metadata": {},
   "outputs": [
    {
     "name": "stdout",
     "output_type": "stream",
     "text": [
      "Você está fora da faixa de idade para ter o desconto\n"
     ]
    }
   ],
   "source": [
    "idade = int(input(\"Insira a sua idade\"))\n",
    "total_compra = float(input(\"Insira o valor da sua compra\"))\n",
    "\n",
    "# ELegibilidade para desconto - ex.1\n",
    "\n",
    "if idade >= 65:\n",
    "    if total_compra >= 100:\n",
    "        print(\"Você terá 10% de desconto\")\n",
    "    else:\n",
    "        print(\"Você não tera direito ao desconto, por causa do valor da compra\")\n",
    "else:\n",
    "    print(\"Você está fora da faixa de idade para ter o desconto\")"
   ]
  },
  {
   "cell_type": "code",
   "execution_count": 15,
   "metadata": {},
   "outputs": [
    {
     "name": "stdout",
     "output_type": "stream",
     "text": [
      "Seu carro está fora da faixa dos anos\n"
     ]
    }
   ],
   "source": [
    "# ex. 2 - Crie um programa para solicitar idade do carro e marca do carro. Se a faixa de idade estiver entre \n",
    "# 2013 e 2015, solicite a marca do carro e, caso a marca do carro seja Volvo, print o carro é volvo e foi\n",
    "# fabricado entre 2013 e 2015. Carro entre os anos 2013 e 2015, mas não é volvo. Seu carro está fora da faixa dos anos.\n",
    "\n",
    "ano   = int(input(\"Insira o ano do seu carro\"))\n",
    "marca = int(input(\"O seu carro é Volvo? 1.Sim 2.Não\"))\n",
    "\n",
    "if 2013 <= ano <= 2015:\n",
    "    if marca == 1:\n",
    "        print(\"O carro é volto e foi fabricado entre 2013 e 2015\")\n",
    "    else:\n",
    "        print(\"Carro entre os anos 2013 e 2015, mas não é volvo.\")\n",
    "else:\n",
    "    print(\"Seu carro está fora da faixa dos anos.\")\n",
    "\n",
    "\n"
   ]
  },
  {
   "cell_type": "code",
   "execution_count": null,
   "metadata": {},
   "outputs": [],
   "source": [
    "# ex. 3 - Verificação de horário do dia e temperatura para sugerir uma atividade 6 <= hora < 12h e a temperatura > 20,\n",
    "# hora de fazer uma caminhada no parque.\n",
    "# Hora de tomar um café da manhã\n",
    "\n",
    "# 12 < hora < 18h e a temperatura > 25, Que tal um piquenique!.  \n",
    "# Hora de almoçar.\n",
    "\n",
    "# Hora de relaxar em casa. \n",
    "\n"
   ]
  },
  {
   "cell_type": "code",
   "execution_count": null,
   "metadata": {},
   "outputs": [],
   "source": [
    "# ex. 4 - Verificação de status de um pedido com base na idade do pedido e no tipo de cliente \n",
    "# idade < 7 e cliente VIP - Seu pedido está sendo preparado para entrega expressa!\n",
    "# else - seu pedido será entregue em breve.\n",
    "# 7 < idade < 14 e cliente VIP - Seu pedido está em processo de embalagem especial\n",
    "# else - seu pedido está sendo preparado\n",
    "# else - seu pedido está a caminho."
   ]
  }
 ],
 "metadata": {
  "kernelspec": {
   "display_name": "Python 3",
   "language": "python",
   "name": "python3"
  },
  "language_info": {
   "codemirror_mode": {
    "name": "ipython",
    "version": 3
   },
   "file_extension": ".py",
   "mimetype": "text/x-python",
   "name": "python",
   "nbconvert_exporter": "python",
   "pygments_lexer": "ipython3",
   "version": "3.9.6"
  }
 },
 "nbformat": 4,
 "nbformat_minor": 2
}
