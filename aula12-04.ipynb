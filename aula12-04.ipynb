{
 "cells": [
  {
   "cell_type": "code",
   "execution_count": 14,
   "metadata": {},
   "outputs": [
    {
     "name": "stdout",
     "output_type": "stream",
     "text": [
      "A média ponderada é: 4.818181818181818\n"
     ]
    }
   ],
   "source": [
    "\"\"\" Crie um programa para calcular a media ponderada de cinco notas.\n",
    "Pense como pode ser calculado a média ponderada, lembrando que existem \n",
    "pesos que podem influenciar mais ou menos.\"\"\"\n",
    "\n",
    "nota1 = float(input(\"Digite a primeira nota:\"))\n",
    "nota2 = float(input(\"Digite a segunda nota:\"))\n",
    "nota3 = float(input(\"Digite a terceira nota:\"))\n",
    "nota4 = float(input(\"Digite a quarta nota:\"))\n",
    "nota5 = float(input(\"Digite a quinta nota:\"))\n",
    "\n",
    "peso1 = 1\n",
    "peso2 = 2\n",
    "peso3 = 4\n",
    "\n",
    "mediaponderada = ((nota1 * peso1) + (nota2 * peso2) + (nota3 * peso3) + (nota4 * peso2) + (nota5 * peso2)) / (peso1 + peso2 + peso3 + peso2 + peso2)\n",
    "\n",
    "print(\"A média ponderada é:\", mediaponderada)"
   ]
  },
  {
   "cell_type": "code",
   "execution_count": null,
   "metadata": {},
   "outputs": [],
   "source": [
    "\"\"\"Crie um programa para solicitar ao usuário um e-mail, senha e um código\n",
    "de segurança para acessar a sua uma determinada conta\"\"\"\n",
    "\n"
   ]
  },
  {
   "cell_type": "code",
   "execution_count": null,
   "metadata": {},
   "outputs": [],
   "source": [
    "\"\"\" Crie um prograa para calcular o imposto a ser pago no ano em função da faixa de salário do funcionário\n",
    "Salário de Contribuição (R$)        Alíquota (%)\n",
    "até R$ 1.412,00                     7,5%\n",
    "de R$1412,01 até R$2.666,68         9,0%    \n",
    "de R$2.666,69 até R$4.000,03        12,0%\n",
    "de R$4.000,04 até R$7.786,02        14,0%\n",
    "acima de R$ 7.786,02                27,5%\n",
    "\"\"\"\n",
    "\n"
   ]
  },
  {
   "cell_type": "code",
   "execution_count": null,
   "metadata": {},
   "outputs": [],
   "source": [
    "\"\"\"Crie um programa para facilitar o trabalho para uma empresa que trabalha com convênio. Se a pessoa\n",
    "contratou convênio com menos de 6 meses, poderá fazer apenas exames de sangue. Se a pessoa contratou \n",
    "convênio com mais de 6 meses e até 12 meses, poderá fazer apenas exames de sangue e radiografias. \n",
    "Se a pessoa contratou convênio com mais 12 meses, poderá fazer exames mais complexos, porém, será\n",
    "necessário solicitar permissão para o convênio.\"\"\"\n",
    "\n"
   ]
  }
 ],
 "metadata": {
  "kernelspec": {
   "display_name": "Python 3",
   "language": "python",
   "name": "python3"
  },
  "language_info": {
   "codemirror_mode": {
    "name": "ipython",
    "version": 3
   },
   "file_extension": ".py",
   "mimetype": "text/x-python",
   "name": "python",
   "nbconvert_exporter": "python",
   "pygments_lexer": "ipython3",
   "version": "3.9.6"
  }
 },
 "nbformat": 4,
 "nbformat_minor": 2
}
