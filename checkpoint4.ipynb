{
 "cells": [
  {
   "cell_type": "code",
   "execution_count": null,
   "metadata": {},
   "outputs": [],
   "source": [
    "#1. \n",
    "\n",
    "dias = [16, 17, 18, 19, 20, 21, 22, 23, 24, 25]\n",
    "temperaturas = [32, 33, 34, 34, 30, 21, 24, 28, 32, 30]\n",
    "\n",
    "def calcular_media(temperaturas):\n",
    "    total = 0\n",
    "    contador = 0\n",
    "    for temp in temperaturas:\n",
    "        total += temp\n",
    "        contador += 1  \n",
    "    media = total / contador  \n",
    "    return media\n",
    "\n",
    "def classificar_temperaturas(temperaturas):\n",
    "    media = calcular_media(temperaturas)\n",
    "    temp_abaixo = [temp for temp in temperaturas if temp < media]\n",
    "    temp_acima = [temp for temp in temperaturas if temp > media]\n",
    "    return temp_abaixo, temp_acima\n",
    "\n",
    "def relacao_temperaturas(temperaturas):\n",
    "    media = calcular_media(temperaturas)\n",
    "    relacao = [(temp - media) / temp for temp in temperaturas]\n",
    "    return relacao\n",
    "\n",
    "temp_abaixo, temp_acima = classificar_temperaturas(temperaturas)\n",
    "print(\"temp_abaixo:\", temp_abaixo)\n",
    "print(\"temp_acima:\", temp_acima)\n",
    "\n",
    "relacoes = relacao_temperaturas(temperaturas)\n",
    "print(\"temperatura_relacao:\", relacoes)"
   ]
  },
  {
   "cell_type": "code",
   "execution_count": null,
   "metadata": {},
   "outputs": [],
   "source": []
  }
 ],
 "metadata": {
  "kernelspec": {
   "display_name": "Python 3",
   "language": "python",
   "name": "python3"
  },
  "language_info": {
   "codemirror_mode": {
    "name": "ipython",
    "version": 3
   },
   "file_extension": ".py",
   "mimetype": "text/x-python",
   "name": "python",
   "nbconvert_exporter": "python",
   "pygments_lexer": "ipython3",
   "version": "3.9.6"
  }
 },
 "nbformat": 4,
 "nbformat_minor": 2
}
