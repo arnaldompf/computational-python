{
 "cells": [
  {
   "cell_type": "code",
   "execution_count": null,
   "metadata": {},
   "outputs": [],
   "source": [
    "# Exercício 1 - Crie um algoritimo utilizando função dentro de função que faz as quatro operações \n",
    "# básicas (soma, subtração, multiplicação e dívisão):\n",
    "\n"
   ]
  },
  {
   "cell_type": "code",
   "execution_count": null,
   "metadata": {},
   "outputs": [],
   "source": [
    "# Exercício 2 - Crie uma calculadora de média solicitando numero para o usuário até que ele \n",
    "# digite 'fim'. Crie uma função para solicitar a informação para o usuário (números), em seguida, crie\n",
    "# outra função para apresentar a média deste valores."
   ]
  }
 ],
 "metadata": {
  "language_info": {
   "name": "python"
  }
 },
 "nbformat": 4,
 "nbformat_minor": 2
}
