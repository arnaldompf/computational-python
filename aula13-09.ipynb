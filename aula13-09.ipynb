{
 "cells": [
  {
   "cell_type": "code",
   "execution_count": 8,
   "metadata": {},
   "outputs": [
    {
     "name": "stdout",
     "output_type": "stream",
     "text": [
      "4.0\n"
     ]
    }
   ],
   "source": [
    "# Exercício 1 - Crie um algoritimo utilizando função dentro de função que faz as quatro operações \n",
    "# básicas (soma, subtração, multiplicação e dívisão):\n",
    "\n",
    "def calculadora(a, b, operacao):\n",
    "    def soma():\n",
    "        return a + b\n",
    "    \n",
    "    def subtracao():\n",
    "        return a - b\n",
    "    \n",
    "    def multiplicacao():\n",
    "        return a * b\n",
    "    \n",
    "    def divisao():\n",
    "        return a / b\n",
    "    \n",
    "    if operacao == 1:\n",
    "        return soma()\n",
    "    elif operacao == 2:\n",
    "        return subtracao()\n",
    "    elif operacao == 3:\n",
    "        return multiplicacao()\n",
    "    elif operacao == 4:\n",
    "        return divisao()\n",
    "    \n",
    "a = float(input(\"Primeiro numero\"))\n",
    "b = float(input(\"Segundo numero\"))\n",
    "\n",
    "operacao = int(input(\"Digite o número da operação desejada 1. Soma / 2. Divisão / 3.Multiplicação / 4.Divisão\"))\n",
    "resultado = calculadora(a, b, operacao)\n",
    "print(resultado)\n",
    "\n"
   ]
  },
  {
   "cell_type": "code",
   "execution_count": null,
   "metadata": {},
   "outputs": [],
   "source": [
    "# Exercício 2 - Crie uma calculadora de média solicitando numero para o usuário até que ele \n",
    "# digite 'fim'. Crie uma função para solicitar a informação para o usuário (números), em seguida, crie\n",
    "# outra função para apresentar a média deste valores."
   ]
  }
 ],
 "metadata": {
  "kernelspec": {
   "display_name": "Python 3",
   "language": "python",
   "name": "python3"
  },
  "language_info": {
   "codemirror_mode": {
    "name": "ipython",
    "version": 3
   },
   "file_extension": ".py",
   "mimetype": "text/x-python",
   "name": "python",
   "nbconvert_exporter": "python",
   "pygments_lexer": "ipython3",
   "version": "3.9.6"
  }
 },
 "nbformat": 4,
 "nbformat_minor": 2
}
