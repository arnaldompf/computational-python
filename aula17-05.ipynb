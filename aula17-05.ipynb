{
 "cells": [
  {
   "cell_type": "code",
   "execution_count": null,
   "metadata": {},
   "outputs": [],
   "source": [
    "\"\"\"\n",
    "Exercícios\n",
    "\n",
    "1. Crie uma função para contar até n.\n",
    "2. Crie uma função para verificar cores de uma lista_cores = ['azul', 'verde', 'amarelo']\n",
    "3. Crie uma função para simular uma calculadora de despesas levando em consideração a lista_mes = ['janeiro', 'fevereiro', 'março'].\n",
    "4. Crie uma função para monitorar temperatura, solicitando valores de temperatura para o usuário até o mesmo digitar\n",
    "-999. Depois disso, retorne o valor mínimo, máximo, médio e mediano da temperatura.\n",
    "\n",
    "\"\"\""
   ]
  },
  {
   "cell_type": "code",
   "execution_count": null,
   "metadata": {},
   "outputs": [],
   "source": [
    "def contar(n):\n",
    "    i = 1\n",
    "    while i <=n:\n",
    "        print(i)\n",
    "        i += 1\n",
    "\n",
    "numero = int(input(\"Digite um número\"))\n",
    "contar(numero)"
   ]
  },
  {
   "cell_type": "code",
   "execution_count": null,
   "metadata": {},
   "outputs": [],
   "source": [
    "def contar(n):\n",
    "    for i in range(n):\n",
    "        print(i+1)\n",
    "numero = int(input(\"Digite um número\"))\n",
    "contar(numero)"
   ]
  }
 ],
 "metadata": {
  "kernelspec": {
   "display_name": "Python 3",
   "language": "python",
   "name": "python3"
  },
  "language_info": {
   "codemirror_mode": {
    "name": "ipython",
    "version": 3
   },
   "file_extension": ".py",
   "mimetype": "text/x-python",
   "name": "python",
   "nbconvert_exporter": "python",
   "pygments_lexer": "ipython3",
   "version": "3.9.6"
  }
 },
 "nbformat": 4,
 "nbformat_minor": 2
}
