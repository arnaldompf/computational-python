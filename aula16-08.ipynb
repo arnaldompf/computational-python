{
 "cells": [
  {
   "cell_type": "code",
   "execution_count": null,
   "metadata": {},
   "outputs": [],
   "source": [
    "# Exercício 2\n",
    "# Crie um algoritimo para calcular a média dos alunos abaixo. Utilize estrutura de repetição e tuplas.\n",
    "# (Laura, 85, 90 88)\n",
    "# (Paulo, 60 75 68)\n",
    "# (Ana, 68, 80, 90)\n",
    "# (Jose, 80, 90, 72)"
   ]
  },
  {
   "cell_type": "code",
   "execution_count": null,
   "metadata": {},
   "outputs": [],
   "source": [
    "# Exercício 3\n",
    "# Crie um programa para análise de despesas.\n",
    "# Utilize estrutura de repetição e tuplas.\n",
    "# viagens, 5000, 15000, 25000, 9800\n",
    "# restaurantes, 230, 100, 50, 415\n",
    "# transporte, 50, 15, 89, 115\n",
    "# viagens, 5000, 15000, 25000, 9800"
   ]
  },
  {
   "cell_type": "code",
   "execution_count": null,
   "metadata": {},
   "outputs": [],
   "source": [
    "# Exercício 4\n",
    "# Crie um programa para catalogação de livros.\n",
    "# Utilize estrutura de repetição e tuplas.\n",
    "\"\"\"\n",
    "livros = [\n",
    "(\"O senhor dos Anéis\", \"J.R.R. Tolkien\")\n",
    "(\"O Hobbit\", \"J.R.R. Tolkien\"),\n",
    "(\"1984\", \"George Orwell\")\n",
    "]\n",
    "\"\"\""
   ]
  }
 ],
 "metadata": {
  "language_info": {
   "name": "python"
  }
 },
 "nbformat": 4,
 "nbformat_minor": 2
}
