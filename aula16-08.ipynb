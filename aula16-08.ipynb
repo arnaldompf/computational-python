{
 "cells": [
  {
   "cell_type": "code",
   "execution_count": 3,
   "metadata": {},
   "outputs": [
    {
     "name": "stdout",
     "output_type": "stream",
     "text": [
      "O aluno Laura tem a média 87.66666666666667\n",
      "O aluno Paulo tem a média 67.66666666666667\n",
      "O aluno Ana tem a média 79.33333333333333\n",
      "O aluno Jose tem a média 80.66666666666667\n"
     ]
    }
   ],
   "source": [
    "# Exercício 2\n",
    "# Crie um algoritimo para calcular a média dos alunos abaixo. Utilize estrutura de repetição e tuplas.\n",
    "# (Laura, 85, 90 88)\n",
    "# (Paulo, 60 75 68)\n",
    "# (Ana, 68, 80, 90)\n",
    "# (Jose, 80, 90, 72)\n",
    "\n",
    "lista_aluno = [\n",
    "    ('Laura', 85, 90, 88),\n",
    "    ('Paulo', 60, 75, 68),\n",
    "    ('Ana', 68, 80, 90),\n",
    "    ('Jose', 80, 90, 72)]\n",
    "\n",
    "for k in lista_aluno:\n",
    "    nome, nota1, nota2, nota3 = k\n",
    "    media = (nota1 + nota2 + nota3) / 3\n",
    "\n",
    "    print(f\"O aluno {nome} tem a média {media}\") "
   ]
  },
  {
   "cell_type": "code",
   "execution_count": null,
   "metadata": {},
   "outputs": [],
   "source": [
    "# Exercício 3\n",
    "# Crie um programa para análise de despesas.\n",
    "# Utilize estrutura de repetição e tuplas.\n",
    "# viagens, 5000, 15000, 25000, 9800\n",
    "# restaurantes, 230, 100, 50, 415\n",
    "# transporte, 50, 15, 89, 115\n",
    "# viagens, 5000, 15000, 25000, 9800"
   ]
  },
  {
   "cell_type": "code",
   "execution_count": null,
   "metadata": {},
   "outputs": [],
   "source": [
    "# Exercício 4\n",
    "# Crie um programa para catalogação de livros.\n",
    "# Utilize estrutura de repetição e tuplas.\n",
    "\"\"\"\n",
    "livros = [\n",
    "(\"O senhor dos Anéis\", \"J.R.R. Tolkien\")\n",
    "(\"O Hobbit\", \"J.R.R. Tolkien\"),\n",
    "(\"1984\", \"George Orwell\")\n",
    "]\n",
    "\"\"\""
   ]
  }
 ],
 "metadata": {
  "kernelspec": {
   "display_name": "Python 3",
   "language": "python",
   "name": "python3"
  },
  "language_info": {
   "codemirror_mode": {
    "name": "ipython",
    "version": 3
   },
   "file_extension": ".py",
   "mimetype": "text/x-python",
   "name": "python",
   "nbconvert_exporter": "python",
   "pygments_lexer": "ipython3",
   "version": "3.9.6"
  }
 },
 "nbformat": 4,
 "nbformat_minor": 2
}
