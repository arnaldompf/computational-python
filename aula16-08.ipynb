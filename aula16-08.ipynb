{
 "cells": [
  {
   "cell_type": "code",
   "execution_count": null,
   "metadata": {},
   "outputs": [],
   "source": [
    "# Exercício 2\n",
    "# Crie um algoritimo para calcular a média dos alunos abaixo. Utilize estrutura de repetição e tuplas.\n",
    "# (Laura, 85, 90 88)\n",
    "# (Paulo, 60 75 68)\n",
    "# (Ana, 68, 80, 90)\n",
    "# (Jose, 80, 90, 72)"
   ]
  }
 ],
 "metadata": {
  "language_info": {
   "name": "python"
  }
 },
 "nbformat": 4,
 "nbformat_minor": 2
}
