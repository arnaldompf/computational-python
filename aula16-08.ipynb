{
 "cells": [
  {
   "cell_type": "code",
   "execution_count": 3,
   "metadata": {},
   "outputs": [
    {
     "name": "stdout",
     "output_type": "stream",
     "text": [
      "O aluno Laura tem a média 87.66666666666667\n",
      "O aluno Paulo tem a média 67.66666666666667\n",
      "O aluno Ana tem a média 79.33333333333333\n",
      "O aluno Jose tem a média 80.66666666666667\n"
     ]
    }
   ],
   "source": [
    "# Exercício 2\n",
    "# Crie um algoritimo para calcular a média dos alunos abaixo. Utilize estrutura de repetição e tuplas.\n",
    "# (Laura, 85, 90 88)\n",
    "# (Paulo, 60 75 68)\n",
    "# (Ana, 68, 80, 90)\n",
    "# (Jose, 80, 90, 72)\n",
    "\n",
    "lista_aluno = [\n",
    "    ('Laura', 85, 90, 88),\n",
    "    ('Paulo', 60, 75, 68),\n",
    "    ('Ana', 68, 80, 90),\n",
    "    ('Jose', 80, 90, 72)]\n",
    "\n",
    "for k in lista_aluno:\n",
    "    nome, nota1, nota2, nota3 = k\n",
    "    media = (nota1 + nota2 + nota3) / 3\n",
    "\n",
    "    print(f\"O aluno {nome} tem a média {media}\") "
   ]
  },
  {
   "cell_type": "code",
   "execution_count": 4,
   "metadata": {},
   "outputs": [
    {
     "ename": "ValueError",
     "evalue": "too many values to unpack (expected 4)",
     "output_type": "error",
     "traceback": [
      "\u001b[0;31m---------------------------------------------------------------------------\u001b[0m",
      "\u001b[0;31mValueError\u001b[0m                                Traceback (most recent call last)",
      "Cell \u001b[0;32mIn[4], line 15\u001b[0m\n\u001b[1;32m      8\u001b[0m lista_despesas \u001b[38;5;241m=\u001b[39m [\n\u001b[1;32m      9\u001b[0m     (\u001b[38;5;124m'\u001b[39m\u001b[38;5;124mviagens\u001b[39m\u001b[38;5;124m'\u001b[39m, \u001b[38;5;241m5000\u001b[39m, \u001b[38;5;241m15000\u001b[39m, \u001b[38;5;241m25000\u001b[39m, \u001b[38;5;241m9800\u001b[39m),\n\u001b[1;32m     10\u001b[0m     (\u001b[38;5;124m'\u001b[39m\u001b[38;5;124mrestaurantes\u001b[39m\u001b[38;5;124m'\u001b[39m, \u001b[38;5;241m230\u001b[39m, \u001b[38;5;241m100\u001b[39m, \u001b[38;5;241m50\u001b[39m, \u001b[38;5;241m415\u001b[39m),\n\u001b[1;32m     11\u001b[0m     (\u001b[38;5;124m'\u001b[39m\u001b[38;5;124mtransporte\u001b[39m\u001b[38;5;124m'\u001b[39m, \u001b[38;5;241m50\u001b[39m, \u001b[38;5;241m15\u001b[39m, \u001b[38;5;241m89\u001b[39m, \u001b[38;5;241m115\u001b[39m),\n\u001b[1;32m     12\u001b[0m ]\n\u001b[1;32m     14\u001b[0m \u001b[38;5;28;01mfor\u001b[39;00m k \u001b[38;5;129;01min\u001b[39;00m lista_despesas:\n\u001b[0;32m---> 15\u001b[0m     descricao, gasto1, gasto2, gasto3 \u001b[38;5;241m=\u001b[39m k\n\u001b[1;32m     16\u001b[0m     total_mes \u001b[38;5;241m=\u001b[39m gasto1 \u001b[38;5;241m+\u001b[39m gasto2 \u001b[38;5;241m+\u001b[39m gasto3 \n\u001b[1;32m     17\u001b[0m     \u001b[38;5;28mprint\u001b[39m(\u001b[38;5;124mf\u001b[39m\u001b[38;5;124m\"\u001b[39m\u001b[38;5;124mO gasto de \u001b[39m\u001b[38;5;132;01m{\u001b[39;00mdescricao\u001b[38;5;132;01m}\u001b[39;00m\u001b[38;5;124m é \u001b[39m\u001b[38;5;132;01m{\u001b[39;00mtotal_mes\u001b[38;5;132;01m}\u001b[39;00m\u001b[38;5;124m\"\u001b[39m)\n",
      "\u001b[0;31mValueError\u001b[0m: too many values to unpack (expected 4)"
     ]
    }
   ],
   "source": [
    "# Exercício 3\n",
    "# Crie um programa para análise de despesas.\n",
    "# Utilize estrutura de repetição e tuplas.\n",
    "# viagens, 5000, 15000, 25000, 9800\n",
    "# restaurantes, 230, 100, 50, 415\n",
    "# transporte, 50, 15, 89, 115\n",
    "\n",
    "lista_despesas = [\n",
    "    ('viagens', 5000, 15000, 25000, 9800),\n",
    "    ('restaurantes', 230, 100, 50, 415),\n",
    "    ('transporte', 50, 15, 89, 115),\n",
    "]\n",
    "\n",
    "for k in lista_despesas:\n",
    "    descricao, gasto1, gasto2, gasto3 = k\n",
    "    total_mes = gasto1 + gasto2 + gasto3 \n",
    "    print(f\"O gasto de {descricao} é {total_mes}\")"
   ]
  },
  {
   "cell_type": "code",
   "execution_count": null,
   "metadata": {},
   "outputs": [],
   "source": [
    "# Exercício 4\n",
    "# Crie um programa para catalogação de livros.\n",
    "# Utilize estrutura de repetição e tuplas.\n",
    "\"\"\"\n",
    "livros = [\n",
    "(\"O senhor dos Anéis\", \"J.R.R. Tolkien\")\n",
    "(\"O Hobbit\", \"J.R.R. Tolkien\"),\n",
    "(\"1984\", \"George Orwell\")\n",
    "]\n",
    "\"\"\""
   ]
  }
 ],
 "metadata": {
  "kernelspec": {
   "display_name": "Python 3",
   "language": "python",
   "name": "python3"
  },
  "language_info": {
   "codemirror_mode": {
    "name": "ipython",
    "version": 3
   },
   "file_extension": ".py",
   "mimetype": "text/x-python",
   "name": "python",
   "nbconvert_exporter": "python",
   "pygments_lexer": "ipython3",
   "version": "3.9.6"
  }
 },
 "nbformat": 4,
 "nbformat_minor": 2
}
