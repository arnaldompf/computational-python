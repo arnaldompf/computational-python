{
 "cells": [
  {
   "cell_type": "code",
   "execution_count": null,
   "metadata": {},
   "outputs": [],
   "source": [
    "lista_original=[1, 2, 3, 4, 5]\n",
    "nova_lista = []\n",
    "\n",
    "for k in lista_original:\n",
    "    nova_lista.append(k*2)\n",
    "nova_lista"
   ]
  },
  {
   "cell_type": "code",
   "execution_count": null,
   "metadata": {},
   "outputs": [],
   "source": [
    "# Crie um programa para solicitar nomes e inserir os respectivos nomes em uma lista.\n",
    "\n",
    "lista_nomes = []\n",
    "\n",
    "limite = int(input(\"Digite o limite\"))\n",
    "\n",
    "for i in range(limite):\n",
    "    nome = str(input(\"Digite um nome\"))\n",
    "    lista_nomes.append(nome)\n",
    "lista_nomes"
   ]
  },
  {
   "cell_type": "code",
   "execution_count": null,
   "metadata": {},
   "outputs": [],
   "source": [
    "lista_nomes = []\n",
    "contador = 0\n",
    "\n",
    "while contador < 4:\n",
    "    nome = input(\"Digite um nome\")\n",
    "    lista_nomes.append(nome)\n",
    "    contador += 1\n",
    "\n",
    "print(lista_nomes)"
   ]
  },
  {
   "cell_type": "code",
   "execution_count": null,
   "metadata": {},
   "outputs": [],
   "source": [
    "palavras = ['python', 'javascript']\n",
    "\n",
    "for i in palavras:\n",
    "    for letra in i:\n",
    "        print(letra)"
   ]
  },
  {
   "cell_type": "code",
   "execution_count": null,
   "metadata": {},
   "outputs": [],
   "source": [
    "for i in range(1, 5):\n",
    "    for k in range(1, 5):\n",
    "        print(i*k, end = \" \")"
   ]
  },
  {
   "cell_type": "code",
   "execution_count": null,
   "metadata": {},
   "outputs": [],
   "source": [
    "# Crie um programa que simule uma tabuada apenas de multiplicação\n",
    "\n",
    "for i in range(2):\n",
    "    for k in range(11):\n",
    "        print(i*k, end = \" \")"
   ]
  },
  {
   "cell_type": "code",
   "execution_count": null,
   "metadata": {},
   "outputs": [],
   "source": [
    "# Crie um programa que simule uma tabuada apenas de mutiplicação e insira em uma lista chamada lista_mult"
   ]
  },
  {
   "cell_type": "code",
   "execution_count": null,
   "metadata": {},
   "outputs": [],
   "source": [
    "# Crie um programa que simule as quatro operações (soma, subtração, multiplicação e divisão)"
   ]
  },
  {
   "cell_type": "code",
   "execution_count": null,
   "metadata": {},
   "outputs": [],
   "source": [
    "# Crie um prograa que simule as quatro operações (soma, subtação, multiplicação e divisão) e insira isso em quatro linhas"
   ]
  }
 ],
 "metadata": {
  "kernelspec": {
   "display_name": "Python 3",
   "language": "python",
   "name": "python3"
  },
  "language_info": {
   "codemirror_mode": {
    "name": "ipython",
    "version": 3
   },
   "file_extension": ".py",
   "mimetype": "text/x-python",
   "name": "python",
   "nbconvert_exporter": "python",
   "pygments_lexer": "ipython3",
   "version": "3.9.6"
  }
 },
 "nbformat": 4,
 "nbformat_minor": 2
}
