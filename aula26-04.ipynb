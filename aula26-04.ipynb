{
 "cells": [
  {
   "cell_type": "code",
   "execution_count": null,
   "metadata": {},
   "outputs": [],
   "source": [
    "lista_original=[1, 2, 3, 4, 5]\n",
    "nova_lista = []\n",
    "\n",
    "for k in lista_original:\n",
    "    nova_lista.append(k*2)\n",
    "nova_lista"
   ]
  },
  {
   "cell_type": "code",
   "execution_count": null,
   "metadata": {},
   "outputs": [],
   "source": [
    "# Crie um programa para solicitar nomes e inserir os respectivos nomes em uma lista.\n",
    "\n",
    "lista_nomes = []\n",
    "\n",
    "limite = int(input(\"Digite o limite\"))\n",
    "\n",
    "for i in range(limite):\n",
    "    nome = str(input(\"Digite um nome\"))\n",
    "    lista_nomes.append(nome)\n",
    "lista_nomes"
   ]
  },
  {
   "cell_type": "code",
   "execution_count": null,
   "metadata": {},
   "outputs": [],
   "source": [
    "lista_nomes = []\n",
    "contador = 0\n",
    "\n",
    "while contador < 4:\n",
    "    nome = input(\"Digite um nome\")\n",
    "    lista_nomes.append(nome)\n",
    "    contador += 1\n",
    "\n",
    "print(lista_nomes)"
   ]
  },
  {
   "cell_type": "code",
   "execution_count": null,
   "metadata": {},
   "outputs": [],
   "source": [
    "palavras = ['python', 'javascript']\n",
    "\n",
    "for i in palavras:\n",
    "    for letra in i:\n",
    "        print(letra)"
   ]
  },
  {
   "cell_type": "code",
   "execution_count": null,
   "metadata": {},
   "outputs": [],
   "source": [
    "for i in range(1, 5):\n",
    "    for k in range(1, 5):\n",
    "        print(i*k, end = \" \")"
   ]
  },
  {
   "cell_type": "code",
   "execution_count": null,
   "metadata": {},
   "outputs": [],
   "source": [
    "# 1. Crie um programa que simule uma tabuada apenas de multiplicação\n",
    "\n",
    "for i in range(2):\n",
    "    for k in range(11):\n",
    "        print(i*k, end = \" \")"
   ]
  },
  {
   "cell_type": "code",
   "execution_count": null,
   "metadata": {},
   "outputs": [],
   "source": [
    "# 2. Crie um programa que simule uma tabuada apenas de mutiplicação e insira em uma lista chamada lista_mult"
   ]
  },
  {
   "cell_type": "code",
   "execution_count": null,
   "metadata": {},
   "outputs": [],
   "source": [
    "# 3. Crie um programa que simule as quatro operações (soma, subtração, multiplicação e divisão)\n",
    "\n",
    "for i in range(1, 11):\n",
    "    for k in range(1, 11):\n",
    "        print(i*k, end = \" \")\n",
    "        print(i/k, end = \" \")\n",
    "        print(i+k, end = \" \")\n",
    "        print(i-k, end = \" \")"
   ]
  },
  {
   "cell_type": "code",
   "execution_count": null,
   "metadata": {},
   "outputs": [],
   "source": [
    "# 4. Crie um programa que simule as quatro operações (soma, subtação, multiplicação e divisão) \n",
    "# e insira isso em quatro linhas\n",
    "\n",
    "lista_mult = []\n",
    "lista_div = []\n",
    "lista_soma = []\n",
    "lista_sub = []\n",
    "\n",
    "for i in range(1, 11):\n",
    "    for k in range(1, 11):\n",
    "        lista_mult.append(i*k)\n",
    "        lista_div.append(i/k)\n",
    "        lista_soma.append(i+k)\n",
    "        lista_sub.append(i-k)\n",
    "\n",
    "print(lista_mult)\n",
    "print(lista_div)\n",
    "print(lista_soma)\n",
    "print(lista_sub)"
   ]
  },
  {
   "cell_type": "code",
   "execution_count": null,
   "metadata": {},
   "outputs": [],
   "source": [
    "# 5. Criar uma terceira lista com a soma dos elementos da lista 1 e lista 2.\n",
    "\n",
    "lista1 = [1, 2, 3, 4]\n",
    "lista2 = [5, 6, 7, 8]\n",
    "\n",
    "list_soma = []\n",
    "\n",
    "for k in range(len(lista1)):\n",
    "    lista_soma.append(lista1[k] + lista2[k])\n",
    "print(lista_soma)"
   ]
  },
  {
   "cell_type": "code",
   "execution_count": null,
   "metadata": {},
   "outputs": [],
   "source": [
    "for i in range(1, 4):\n",
    "    for k in range(1, 4):\n",
    "        if i == k:\n",
    "            break\n",
    "\n",
    "        print(i, \"*\", k, \"=\", i*k)"
   ]
  },
  {
   "cell_type": "code",
   "execution_count": null,
   "metadata": {},
   "outputs": [],
   "source": [
    "for i in \"abc\":\n",
    "    for k in \"123\":\n",
    "        print(i+k)"
   ]
  }
 ],
 "metadata": {
  "kernelspec": {
   "display_name": "Python 3",
   "language": "python",
   "name": "python3"
  },
  "language_info": {
   "codemirror_mode": {
    "name": "ipython",
    "version": 3
   },
   "file_extension": ".py",
   "mimetype": "text/x-python",
   "name": "python",
   "nbconvert_exporter": "python",
   "pygments_lexer": "ipython3",
   "version": "3.9.6"
  }
 },
 "nbformat": 4,
 "nbformat_minor": 2
}
