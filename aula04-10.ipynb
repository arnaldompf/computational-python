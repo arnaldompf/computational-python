{
 "cells": [
  {
   "cell_type": "code",
   "execution_count": null,
   "metadata": {},
   "outputs": [],
   "source": [
    "\"\"\"Função dentro de função (função chamando função)\n",
    "\n",
    "Exercícios\n",
    "\n",
    "1. Crie uma estrutura com a função a qual solicite 5 números para um usuário.\n",
    "Após isso, crie uma nova função para calcular a soma dos alores inseridos na lista.\n",
    "\n",
    "Em seguida, crie uma função para retornar a média dos valores da lista.\n",
    "\n",
    "\"\"\"\n",
    "\n"
   ]
  },
  {
   "cell_type": "code",
   "execution_count": null,
   "metadata": {},
   "outputs": [],
   "source": [
    "# Estruturas de repetição com while true e try\n",
    "\n",
    "celsius_lista = []\n",
    "\n",
    "while True:\n",
    "    entrada = input(\"Digite a temperatura em Fahrenheit\")\n",
    "    \n",
    "    if entrada.lower() == 'sair':\n",
    "        break\n",
    "\n",
    "    try:\n",
    "        fahrenheit = float(entrada)\n",
    "        celsius = (fahrenheit -32) * 5 / 9\n",
    "        celsius_lista.append(celsius)\n",
    "\n",
    "    except ValueError:\n",
    "        print(\"Valor inválido\")\n",
    "\n",
    "print(celsius_lista)"
   ]
  }
 ],
 "metadata": {
  "kernelspec": {
   "display_name": "Python 3",
   "language": "python",
   "name": "python3"
  },
  "language_info": {
   "codemirror_mode": {
    "name": "ipython",
    "version": 3
   },
   "file_extension": ".py",
   "mimetype": "text/x-python",
   "name": "python",
   "nbconvert_exporter": "python",
   "pygments_lexer": "ipython3",
   "version": "3.9.6"
  }
 },
 "nbformat": 4,
 "nbformat_minor": 2
}
