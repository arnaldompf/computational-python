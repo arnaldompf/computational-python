{
 "cells": [
  {
   "cell_type": "code",
   "execution_count": null,
   "metadata": {},
   "outputs": [],
   "source": [
    "\"\"\"Função dentro de função (função chamando função)\n",
    "\n",
    "Exercícios\n",
    "\n",
    "1. Crie uma estrutura com a função a qual solicite 5 números para um usuário.\n",
    "Após isso, crie uma nova função para calcular a soma dos alores inseridos na lista.\n",
    "\n",
    "Em seguida, crie uma função para retornar a média dos valores da lista.\n",
    "\n",
    "\"\"\"\n",
    "\n"
   ]
  },
  {
   "cell_type": "code",
   "execution_count": null,
   "metadata": {},
   "outputs": [],
   "source": [
    "# Estruturas de repetição com while true e try\n",
    "\n",
    "celsius_lista = []\n",
    "\n",
    "while True:\n",
    "    entrada = input(\"Digite a temperatura em Fahrenheit\")\n",
    "    \n",
    "    if entrada.lower() == 'sair':\n",
    "        break\n",
    "\n",
    "    try:\n",
    "        fahrenheit = float(entrada)\n",
    "        celsius = (fahrenheit -32) * 5 / 9\n",
    "        celsius_lista.append(celsius)\n",
    "\n",
    "    except ValueError:\n",
    "        print(\"Valor inválido\")\n",
    "\n",
    "print(celsius_lista)"
   ]
  },
  {
   "cell_type": "code",
   "execution_count": 10,
   "metadata": {},
   "outputs": [],
   "source": [
    "import pandas as pd"
   ]
  },
  {
   "cell_type": "code",
   "execution_count": null,
   "metadata": {},
   "outputs": [],
   "source": [
    "dados = {\n",
    "    'Nome':['João', 'Maria', 'Pedro', 'Ana', \"Mark\"],\n",
    "    'Idade':[25, 30, 35, 40, 34],\n",
    "    'Salario':[5000, 6000, 7000, 8000,]\n",
    "}\n",
    "\n",
    "df = pd.DataFrame(dados)"
   ]
  },
  {
   "cell_type": "code",
   "execution_count": null,
   "metadata": {},
   "outputs": [],
   "source": [
    "salario = df['Salario']\n",
    "print(salario)"
   ]
  },
  {
   "cell_type": "code",
   "execution_count": null,
   "metadata": {},
   "outputs": [],
   "source": [
    "input = df[['Nome', 'Idade']]\n",
    "output = ['Salario']"
   ]
  },
  {
   "cell_type": "code",
   "execution_count": null,
   "metadata": {},
   "outputs": [],
   "source": [
    "# Estrutura de repetição com for\n",
    "\n",
    "for k in df['Salario']:\n",
    "    print(k)"
   ]
  },
  {
   "cell_type": "code",
   "execution_count": null,
   "metadata": {},
   "outputs": [],
   "source": [
    "for k in df.select_dtypes(include = ['int', 'float']):\n",
    "    media = df[k].mean()\n",
    "    print(\"Média de\", k, \"é\", media)"
   ]
  },
  {
   "cell_type": "code",
   "execution_count": null,
   "metadata": {},
   "outputs": [],
   "source": [
    "soma_salarios = 0\n",
    "contador = 0\n",
    "i = 0\n",
    "\n",
    "while i < len(df):\n",
    "    soma_salarios += df['Salario'][i]\n",
    "    media_salarios = soma_salarios / i\n",
    "\n",
    "    if media_salarios > 6000:\n",
    "        break\n",
    "    i += 1\n",
    "\n",
    "print(media_salarios)"
   ]
  }
 ],
 "metadata": {
  "kernelspec": {
   "display_name": "Python 3",
   "language": "python",
   "name": "python3"
  },
  "language_info": {
   "codemirror_mode": {
    "name": "ipython",
    "version": 3
   },
   "file_extension": ".py",
   "mimetype": "text/x-python",
   "name": "python",
   "nbconvert_exporter": "python",
   "pygments_lexer": "ipython3",
   "version": "3.9.6"
  }
 },
 "nbformat": 4,
 "nbformat_minor": 2
}
