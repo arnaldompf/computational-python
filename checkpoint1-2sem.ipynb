{
 "cells": [
  {
   "cell_type": "code",
   "execution_count": 1,
   "metadata": {},
   "outputs": [],
   "source": [
    "times = ((\"Fortaleza\", 48, 14, 3), (\"Botafogo\", 47, 14, 5), ( \"Palmeiras\", 44, 14, 5), (\"São Paulo\", 41, 12, 5))"
   ]
  },
  {
   "cell_type": "code",
   "execution_count": null,
   "metadata": {},
   "outputs": [],
   "source": [
    "times = ((\"Fortaleza\", 48, 14, 3), (\"Botafogo\", 47, 14, 5), ( \"Palmeiras\", 44, 14, 5), (\"São Paulo\", 41, 12, 5))\n",
    "\n",
    "taxa_pontos = []\n",
    "\n",
    "maior_pontosvitoria = menor_pontosvitoria = (times[0][0], times[0][1] / times[0][2], times[0][1] / times[0][3])  \n",
    "maior_pontosderrota = menor_pontosderrota = (times[0][0], times[0][1] / times[0][2], times[0][1] / times[0][3])\n",
    "\n",
    "for time in times:\n",
    "    nome, pontos, vitorias, derrotas = time\n",
    "    taxa_pontosvitoria = pontos / vitorias\n",
    "    taxa_pontosderrota = pontos / derrotas\n",
    "    taxa_pontos.append((nome, taxa_pontosvitoria, taxa_pontosderrota))\n",
    "\n",
    "    if taxa_pontosvitoria > maior_pontosvitoria[1]:\n",
    "        maior_pontosvitoria = (nome, taxa_pontosvitoria, taxa_pontosderrota)\n",
    "    if taxa_pontosvitoria < menor_pontosvitoria[1]:\n",
    "        menor_pontosvitoria = (nome, taxa_pontosvitoria, taxa_pontosderrota)\n",
    "\n",
    "    if taxa_pontosderrota > maior_pontosderrota[2]:\n",
    "        maior_pontosderrota = (nome, taxa_pontosvitoria, taxa_pontosderrota)\n",
    "    if taxa_pontosderrota < menor_pontosderrota[2]:\n",
    "        menor_pontosderrota = (nome, taxa_pontosvitoria, taxa_pontosderrota)\n",
    "\n",
    "taxa_pontos\n"
   ]
  },
  {
   "cell_type": "code",
   "execution_count": null,
   "metadata": {},
   "outputs": [],
   "source": [
    "times = ((\"Fortaleza\", 48, 14, 3), (\"Botafogo\", 47, 14, 5), ( \"Palmeiras\", 44, 14, 5), (\"São Paulo\", 41, 12, 5))\n",
    "\n",
    "taxas = [(time, pontos / (pontos + derrotas)) for time, pontos, vitorias, derrotas in times]\n",
    "\n",
    "time_maior_taxa = taxas[0]\n",
    "time_menor_taxa = taxas[0]\n",
    "\n",
    "for taxa in taxas:\n",
    "    if taxa[1] > time_maior_taxa[1]:\n",
    "        time_maior_taxa = taxa\n",
    "    if taxa[1] < time_menor_taxa[1]:\n",
    "        time_menor_taxa = taxa\n",
    "    \n",
    "print(f\"Maior taxa: {time_maior_taxa[0]} ({time_maior_taxa[1]}), Menor taxa: {time_menor_taxa[0]} ({time_menor_taxa[1]})\")\n"
   ]
  },
  {
   "cell_type": "code",
   "execution_count": null,
   "metadata": {},
   "outputs": [],
   "source": [
    "times = ((\"Fortaleza\", 48, 14, 3), (\"Botafogo\", 47, 14, 5), ( \"Palmeiras\", 44, 14, 5), (\"São Paulo\", 41, 12, 5))\n",
    "\n",
    "novos_times = ((\"Fluminense\", 24, 6, 6), (\"Vitória\", 22, 6, 4), (\"Corinthians\", 22, 4, 10), (\"Cuiabá\", 18, 4, 6), (\"Atlético-GO\", 18, 4, 6))\n",
    "\n",
    "\n",
    "todos_times = times + novos_times\n",
    "\n",
    "for time in todos_times:\n",
    "    print(f\"{time[0]} {time[1]}, {time[2]}, {time[3]}\")\n"
   ]
  },
  {
   "cell_type": "code",
   "execution_count": null,
   "metadata": {},
   "outputs": [],
   "source": [
    "times = ((\"Fortaleza\", 48, 14, 3), (\"Botafogo\", 47, 14, 5), ( \"Palmeiras\", 44, 14, 5), (\"São Paulo\", 41, 12, 5))\n",
    "\n",
    "lista = list(times)\n",
    "lista.append((\"Fluminense\", 28, 7, 7))\n",
    "\n",
    "times_atualizados = tuple(lista)\n",
    "\n",
    "print(times_atualizados)"
   ]
  },
  {
   "cell_type": "code",
   "execution_count": null,
   "metadata": {},
   "outputs": [],
   "source": [
    "times = ((\"Fortaleza\", 48, 14, 3), (\"Botafogo\", 47, 14, 5), ( \"Palmeiras\", 44, 14, 5), (\"São Paulo\", 41, 12, 5))\n",
    "\n",
    "total_pontos = 0\n",
    "total_vitorias = 0\n",
    "total_derrotas = 0\n",
    "\n",
    "for time in times:\n",
    "    total_pontos += time[1]\n",
    "    total_vitorias += time[2]\n",
    "    total_derrotas += time[3]\n",
    "\n",
    "print(f\"Total de pontos: {total_pontos}\")\n",
    "print(f\"Total de vitórias: {total_vitorias}\")\n",
    "print(f\"Total de derrotas: {total_derrotas}\")\n"
   ]
  }
 ],
 "metadata": {
  "kernelspec": {
   "display_name": "Python 3",
   "language": "python",
   "name": "python3"
  },
  "language_info": {
   "codemirror_mode": {
    "name": "ipython",
    "version": 3
   },
   "file_extension": ".py",
   "mimetype": "text/x-python",
   "name": "python",
   "nbconvert_exporter": "python",
   "pygments_lexer": "ipython3",
   "version": "3.9.6"
  }
 },
 "nbformat": 4,
 "nbformat_minor": 2
}
