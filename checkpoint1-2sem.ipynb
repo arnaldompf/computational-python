{
 "cells": [
  {
   "cell_type": "code",
   "execution_count": 1,
   "metadata": {},
   "outputs": [],
   "source": [
    "times = ((\"Fortaleza\", 48, 14, 3), (\"Botafogo\", 47, 14, 5), ( \"Palmeiras\", 44, 14, 5), (\"São Paulo\", 41, 12, 5))"
   ]
  },
  {
   "cell_type": "code",
   "execution_count": 21,
   "metadata": {},
   "outputs": [
    {
     "data": {
      "text/plain": [
       "[('Fortaleza', 3.4285714285714284, 16.0),\n",
       " ('Botafogo', 3.357142857142857, 9.4),\n",
       " ('Palmeiras', 3.142857142857143, 8.8),\n",
       " ('São Paulo', 3.4166666666666665, 8.2)]"
      ]
     },
     "execution_count": 21,
     "metadata": {},
     "output_type": "execute_result"
    }
   ],
   "source": [
    "times = ((\"Fortaleza\", 48, 14, 3), (\"Botafogo\", 47, 14, 5), ( \"Palmeiras\", 44, 14, 5), (\"São Paulo\", 41, 12, 5))\n",
    "\n",
    "taxa_pontos = []\n",
    "\n",
    "maior_pontosvitoria = menor_pontosvitoria = (times[0][0], times[0][1] / times[0][2], times[0][1] / times[0][3])  \n",
    "maior_pontosderrota = menor_pontosderrota = (times[0][0], times[0][1] / times[0][2], times[0][1] / times[0][3])\n",
    "\n",
    "for time in times:\n",
    "    nome, pontos, vitorias, derrotas = time\n",
    "    taxa_pontosvitoria = pontos / vitorias\n",
    "    taxa_pontosderrota = pontos / derrotas\n",
    "    taxa_pontos.append((nome, taxa_pontosvitoria, taxa_pontosderrota))\n",
    "\n",
    "    if taxa_pontosvitoria > maior_pontosvitoria[1]:\n",
    "        maior_pontosvitoria = (nome, taxa_pontosvitoria, taxa_pontosderrota)\n",
    "    if taxa_pontosvitoria < menor_pontosvitoria[1]:\n",
    "        menor_pontosvitoria = (nome, taxa_pontosvitoria, taxa_pontosderrota)\n",
    "\n",
    "    if taxa_pontosderrota > maior_pontosderrota[2]:\n",
    "        maior_pontosderrota = (nome, taxa_pontosvitoria, taxa_pontosderrota)\n",
    "    if taxa_pontosderrota < menor_pontosderrota[2]:\n",
    "        menor_pontosderrota = (nome, taxa_pontosvitoria, taxa_pontosderrota)\n",
    "\n",
    "taxa_pontos\n"
   ]
  }
 ],
 "metadata": {
  "kernelspec": {
   "display_name": "Python 3",
   "language": "python",
   "name": "python3"
  },
  "language_info": {
   "codemirror_mode": {
    "name": "ipython",
    "version": 3
   },
   "file_extension": ".py",
   "mimetype": "text/x-python",
   "name": "python",
   "nbconvert_exporter": "python",
   "pygments_lexer": "ipython3",
   "version": "3.9.6"
  }
 },
 "nbformat": 4,
 "nbformat_minor": 2
}
