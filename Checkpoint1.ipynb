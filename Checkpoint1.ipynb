{
 "cells": [
  {
   "cell_type": "code",
   "execution_count": null,
   "metadata": {},
   "outputs": [],
   "source": [
    "# Exercício 1\n",
    "\"\"\"Neste jogo, o usuário 1 escolhe a palavra a ser adivinhada. O usuário 2 tem três tentativas para adivinhar a palavra. Se acertar, o programa imprime \"Parabéns! Você acertou a palavra:\". Caso contrário, o programa informa quantas tentativas restantes o usuário 2 tem. Se o usuário 2 não adivinhar corretamente, o programa informa que ele perdeu.\"\"\""
   ]
  },
  {
   "cell_type": "code",
   "execution_count": null,
   "metadata": {},
   "outputs": [],
   "source": [
    "# Exercício 2\n",
    "\"\"\"Crie um programa que solicite a quantidade de 4 produtos e seus respectivos valores. Em seguida, exiba os valores da relação preço x quantidade dos produtos em ordem crescente. Utilize apenas os conceitos apresentados em sala de aula.\n",
    "\"\"\""
   ]
  },
  {
   "cell_type": "code",
   "execution_count": null,
   "metadata": {},
   "outputs": [],
   "source": [
    "# Exercício 3\n",
    "\"\"\"Desenvolva um programa que permita ao usuário inserir seu nome de usuário, senha e uma palavra-chave. Em seguida, crie uma lógica para verificar o nome de usuário, senha e palavra-chave. Caso estejam corretos, exiba \"Acesso permitido\". Caso haja duas falhas de entrada, informe que o usuário será bloqueado.\n",
    "\"\"\""
   ]
  },
  {
   "cell_type": "code",
   "execution_count": null,
   "metadata": {},
   "outputs": [],
   "source": [
    "# Exercício 4\n",
    "\"\"\"Desenvolva um conversor de moeda que permita ao usuário inserir a moeda que deseja converter. Em seguida, crie uma estrutura para converter a moeda escolhida para três moedas selecionadas pelo usuário. Você definirá a relação de conversão das moedas.\"\"\""
   ]
  },
  {
   "cell_type": "code",
   "execution_count": null,
   "metadata": {},
   "outputs": [],
   "source": [
    "# Exercício 5\n",
    "\"\"\"Crie um programa para calcular a média ponderada de 4 valores de vendas com entrada de dados pelo usuário. Em seguida, exiba a porcentagem de cada valor de venda em relação à média ponderada.\"\"\""
   ]
  },
  {
   "cell_type": "code",
   "execution_count": null,
   "metadata": {},
   "outputs": [],
   "source": [
    "# Exercício 6 \n",
    "\"\"\"Você é responsável pela verificação dos passaportes dos passageiros que chegam ao aeroporto internacional. Desenvolva um programa que permita a entrada dos dados do passageiro (nome, nacionalidade e número do passaporte) e verifique se o passaporte é americano, britânico, alemão ou brasileiro. Se o passageiro for brasileiro, exiba uma mensagem de boas-vindas e informe que não é necessário visto para entrada no país. Caso contrário, exiba uma mensagem informando que o passageiro precisa verificar os requisitos de visto para entrada no país.\"\"\""
   ]
  }
 ],
 "metadata": {
  "kernelspec": {
   "display_name": "Python 3",
   "language": "python",
   "name": "python3"
  },
  "language_info": {
   "name": "python",
   "version": "3.9.6"
  }
 },
 "nbformat": 4,
 "nbformat_minor": 2
}
