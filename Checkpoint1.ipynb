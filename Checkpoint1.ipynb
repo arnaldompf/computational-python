{
 "cells": [
  {
   "cell_type": "code",
   "execution_count": 13,
   "metadata": {},
   "outputs": [
    {
     "name": "stdout",
     "output_type": "stream",
     "text": [
      "Infelizmente você não adivinhou corretamente, perdeu.\n"
     ]
    }
   ],
   "source": [
    "# Exercício 1\n",
    "\"\"\"Neste jogo, o usuário 1 escolhe a palavra a ser adivinhada. O usuário 2 tem três tentativas para adivinhar a palavra. Se acertar, o programa imprime \"Parabéns! Você acertou a palavra:\". Caso contrário, o programa informa quantas tentativas restantes o usuário 2 tem. Se o usuário 2 não adivinhar corretamente, o programa informa que ele perdeu.\"\"\"\n",
    "\n",
    "palavra   = input(\"Usuário 1, insira a palavra a ser adivinhada.\")\n",
    "tentativa = input(\"Usuário 2, insira sua primeira tentativa.\")\n",
    "\n",
    "if tentativa == palavra:\n",
    "    print(\"Parabéns! Você acertou a palavra:\", palavra)\n",
    "else:\n",
    "    tentativa = input(\"Está incorreto, você tem mais duas chances. Faça Sua segunda tentativa:\")\n",
    "    \n",
    "    if tentativa == palavra:\n",
    "        print(\"Parabéns! Você acertou a palavra:\", palavra)\n",
    "    else:\n",
    "        tentativa = input(\"Está incorreto, você tem mais uma chance. Faça Sua Terceira tentativa:\")\n",
    "        if tentativa == palavra:\n",
    "            print(\"Parabéns! Você acertou a palavra:\", palavra)\n",
    "        else: \n",
    "            print(\"Infelizmente você não adivinhou corretamente, perdeu.\")"
   ]
  },
  {
   "cell_type": "code",
   "execution_count": 34,
   "metadata": {},
   "outputs": [],
   "source": [
    "# Exercício 2\n",
    "\"\"\"Crie um programa que solicite a quantidade de 4 produtos e seus respectivos valores. Em seguida, exiba os valores da relação preço x quantidade dos produtos em ordem crescente. Utilize apenas os conceitos apresentados em sala de aula.\n",
    "\"\"\"\n",
    "\n",
    "produto1 = int(input(\"Insira a quantidade do produto 1\"))\n",
    "valor1   = float(input(\"Insira o valor do produto 1\"))\n",
    "produto2 = int(input(\"Insira a quantidade do produto 2\"))\n",
    "valor2   = float(input(\"Insira o valor do produto 2\"))\n",
    "produto3 = int(input(\"Insira a quantidade do produto 3\"))\n",
    "valor3   = float(input(\"Insira o valor do produto 3\"))\n",
    "produto4 = int(input(\"Insira a quantidade do produto 4\"))\n",
    "valor4   = float(input(\"Insira o valor do produto 4\"))\n",
    "\n",
    "quantidadeXpreco1 = produto1 * valor1\n",
    "quantidadeXpreco2 = produto2 * valor2\n",
    "quantidadeXpreco3 = produto3 * valor3\n",
    "quantidadeXpreco4 = produto4 * valor4\n",
    "\n",
    "if quantidadeXpreco1 <= quantidadeXpreco2 <= quantidadeXpreco3 <= quantidadeXpreco4:\n",
    "    "
   ]
  },
  {
   "cell_type": "code",
   "execution_count": 21,
   "metadata": {},
   "outputs": [
    {
     "name": "stdout",
     "output_type": "stream",
     "text": [
      "Dados de entrada incorretos.\n",
      "Acesso bloqueado.\n"
     ]
    }
   ],
   "source": [
    "# Exercício 3\n",
    "\"\"\"Desenvolva um programa que permita ao usuário inserir seu nome de usuário, senha e uma palavra-chave. Em seguida, crie uma lógica para verificar o nome de usuário, senha e palavra-chave. Caso estejam corretos, exiba \"Acesso permitido\". Caso haja duas falhas de entrada, informe que o usuário será bloqueado.\n",
    "\"\"\"\n",
    "\n",
    "nomeUsuario   = \"admin\"\n",
    "senha         = \"admin1920\"\n",
    "palavra_chave = \"key\"\n",
    "\n",
    "nomeUsuarioinp  = input(\"Insira seu nome de usuário\")\n",
    "senhainp        = input(\"Insira sua senha\")\n",
    "palavrachaveinp = input(\"Insira sua palavra-chave\")\n",
    "\n",
    "if nomeUsuarioinp == nomeUsuario:\n",
    "    if senhainp == senha:\n",
    "        if palavrachaveinp == palavra_chave:\n",
    "            print(\"Acesso permitido\")\n",
    "elif nomeUsuarioinp != nomeUsuario:\n",
    "    if senhainp != senha:\n",
    "        if palavrachaveinp != palavra_chave:\n",
    "            print(\"Dados de entrada incorretos.\")\n",
    "            nomeUsuarioinp  = input(\"Insira seu nome de usuário\")\n",
    "            senhainp        = input(\"Insira sua senha\")\n",
    "            palavrachaveinp = input(\"Insira sua palavra-chave\")\n",
    "            if nomeUsuarioinp == nomeUsuario:\n",
    "                if senhainp == senha:\n",
    "                    if palavrachaveinp == palavra_chave:\n",
    "                        print(\"Acesso permitido\")\n",
    "            else: \n",
    "                print(\"Acesso bloqueado.\")\n",
    "else:\n",
    "    print(\"Acesso bloqueado\")"
   ]
  },
  {
   "cell_type": "code",
   "execution_count": null,
   "metadata": {},
   "outputs": [],
   "source": [
    "# Exercício 4\n",
    "\"\"\"Desenvolva um conversor de moeda que permita ao usuário inserir a moeda que deseja converter. Em seguida, crie uma estrutura para converter a moeda escolhida para três moedas selecionadas pelo usuário. Você definirá a relação de conversão das moedas.\"\"\"\n",
    "\n",
    "euro  = 5,46\n",
    "dolar = 5,12\n",
    "cad   = 3,72\n",
    "libra = 6,38\n",
    "\n",
    "moedabase = input(\"Insira a moeda a ser convertida\")\n",
    "\n",
    "\n",
    "\n",
    "\n",
    "\n"
   ]
  },
  {
   "cell_type": "code",
   "execution_count": 1,
   "metadata": {},
   "outputs": [
    {
     "name": "stdout",
     "output_type": "stream",
     "text": [
      "Porcentagem da primeira venda em relação à média ponderada: 3.64963503649635 %\n",
      "Porcentagem da segunda venda em relação à média ponderada: 1.4598540145985401 %\n",
      "Porcentagem da terceira venda em relação à média ponderada: 10.948905109489052 %\n",
      "Porcentagem da quarta venda em relação à média ponderada: 3.64963503649635 %\n"
     ]
    }
   ],
   "source": [
    "# Exercício 5\n",
    "\"\"\"Crie um programa para calcular a média ponderada de 4 valores de vendas com entrada de dados pelo usuário. Em seguida, exiba a porcentagem de cada valor de venda em relação à média ponderada.\"\"\"\n",
    "\n",
    "valorvenda1 = float(input(\"Insira o valor da venda 1.\"))\n",
    "pesovenda1  = float(input(\"Qual o peso da venda 1?\"))\n",
    "valorvenda2 = float(input(\"Insira o valor da venda 2.\"))\n",
    "pesovenda2  = float(input(\"Qual o peso da venda 2?\"))\n",
    "valorvenda3 = float(input(\"Insira o valor da venda 3.\"))\n",
    "pesovenda3  = float(input(\"Qual o peso da venda 3?\"))\n",
    "valorvenda4 = float(input(\"Insira o valor da venda 4.\"))\n",
    "pesovenda4  = float(input(\"Qual o peso da venda 4?\"))\n",
    "\n",
    "media_ponderada = (valorvenda1 * pesovenda1 + valorvenda2 * pesovenda2 + valorvenda3 * valorvenda3 + valorvenda4 * pesovenda4) / (pesovenda1 + pesovenda2 + pesovenda3 + pesovenda4)\n",
    "\n",
    "porcentagem1 = (valorvenda1 * pesovenda1) / (media_ponderada * (pesovenda1 + pesovenda2 + pesovenda3 + pesovenda4)) * 100\n",
    "porcentagem2 = (valorvenda2 * pesovenda2) / (media_ponderada * (pesovenda1 + pesovenda2 + pesovenda3 + pesovenda4)) * 100\n",
    "porcentagem3 = (valorvenda3 * pesovenda3) / (media_ponderada * (pesovenda1 + pesovenda2 + pesovenda3 + pesovenda4)) * 100\n",
    "porcentagem4 = (valorvenda4 * pesovenda4) / (media_ponderada * (pesovenda1 + pesovenda2 + pesovenda3 + pesovenda4)) * 100\n",
    "\n",
    "print(\"A porcentagem da primeira venda em relação à média ponderada:\", porcentagem1, \"%\")\n",
    "print(\"A porcentagem da segunda venda em relação à média ponderada:\", porcentagem2, \"%\")\n",
    "print(\"A porcentagem da terceira venda em relação à média ponderada:\", porcentagem3, \"%\")\n",
    "print(\"A porcentagem da quarta venda em relação à média ponderada:\", porcentagem4, \"%\")"
   ]
  },
  {
   "cell_type": "code",
   "execution_count": 3,
   "metadata": {},
   "outputs": [
    {
     "name": "stdout",
     "output_type": "stream",
     "text": [
      "Verifique os requisitos de visto para entrada no país\n"
     ]
    }
   ],
   "source": [
    "# Exercício 6 \n",
    "\"\"\"Você é responsável pela verificação dos passaportes dos passageiros que chegam ao aeroporto internacional. Desenvolva um programa que permita a entrada dos dados do passageiro (nome, nacionalidade e número do passaporte) e verifique se o passaporte é americano, britânico, alemão ou brasileiro. Se o passageiro for brasileiro, exiba uma mensagem de boas-vindas e informe que não é necessário visto para entrada no país. Caso contrário, exiba uma mensagem informando que o passageiro precisa verificar os requisitos de visto para entrada no país.\"\"\"\n",
    "\n",
    "nome              = input(\"Digite o nome do passageiro\")\n",
    "nacionalidade     = input(\"Digite a nacionalidade do passageiro\")\n",
    "numero_passaporte = input(\"Digite o número do passaporte do passageiro\")\n",
    "\n",
    "if nacionalidade == \"Brasileiro\":\n",
    "    print(\"Seja bem-vindo ao Brasil, não é necessario visto para entrada no país.\")\n",
    "elif nacionalidade != \"Brasileiro\": \n",
    "    print(\"Verifique os requisitos de visto para entrada no país\")"
   ]
  }
 ],
 "metadata": {
  "kernelspec": {
   "display_name": "Python 3",
   "language": "python",
   "name": "python3"
  },
  "language_info": {
   "codemirror_mode": {
    "name": "ipython",
    "version": 3
   },
   "file_extension": ".py",
   "mimetype": "text/x-python",
   "name": "python",
   "nbconvert_exporter": "python",
   "pygments_lexer": "ipython3",
   "version": "3.9.6"
  }
 },
 "nbformat": 4,
 "nbformat_minor": 2
}
