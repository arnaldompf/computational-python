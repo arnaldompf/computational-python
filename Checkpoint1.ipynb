{
 "cells": [
  {
   "cell_type": "code",
   "execution_count": 13,
   "metadata": {},
   "outputs": [
    {
     "name": "stdout",
     "output_type": "stream",
     "text": [
      "Infelizmente você não adivinhou corretamente, perdeu.\n"
     ]
    }
   ],
   "source": [
    "# Exercício 1\n",
    "\"\"\"Neste jogo, o usuário 1 escolhe a palavra a ser adivinhada. O usuário 2 tem três tentativas para adivinhar a palavra. Se acertar, o programa imprime \"Parabéns! Você acertou a palavra:\". Caso contrário, o programa informa quantas tentativas restantes o usuário 2 tem. Se o usuário 2 não adivinhar corretamente, o programa informa que ele perdeu.\"\"\"\n",
    "\n",
    "palavra   = input(\"Usuário 1, insira a palavra a ser adivinhada.\")\n",
    "tentativa = input(\"Usuário 2, insira sua primeira tentativa.\")\n",
    "\n",
    "if tentativa == palavra:\n",
    "    print(\"Parabéns! Você acertou a palavra:\", palavra)\n",
    "else:\n",
    "    tentativa = input(\"Está incorreto, você tem mais duas chances. Faça Sua segunda tentativa:\")\n",
    "    \n",
    "    if tentativa == palavra:\n",
    "        print(\"Parabéns! Você acertou a palavra:\", palavra)\n",
    "    else:\n",
    "        tentativa = input(\"Está incorreto, você tem mais uma chance. Faça Sua Terceira tentativa:\")\n",
    "        if tentativa == palavra:\n",
    "            print(\"Parabéns! Você acertou a palavra:\", palavra)\n",
    "        else: \n",
    "            print(\"Infelizmente você não adivinhou corretamente, perdeu.\")"
   ]
  },
  {
   "cell_type": "code",
   "execution_count": 34,
   "metadata": {},
   "outputs": [],
   "source": [
    "# Exercício 2\n",
    "\"\"\"Crie um programa que solicite a quantidade de 4 produtos e seus respectivos valores. Em seguida, exiba os valores da relação preço x quantidade dos produtos em ordem crescente. Utilize apenas os conceitos apresentados em sala de aula.\n",
    "\"\"\"\n",
    "\n",
    "produto1 = int(input(\"Insira a quantidade do produto 1\"))\n",
    "valor1   = float(input(\"Insira o valor do produto 1\"))\n",
    "produto2 = int(input(\"Insira a quantidade do produto 2\"))\n",
    "valor2   = float(input(\"Insira o valor do produto 2\"))\n",
    "produto3 = int(input(\"Insira a quantidade do produto 3\"))\n",
    "valor3   = float(input(\"Insira o valor do produto 3\"))\n",
    "produto4 = int(input(\"Insira a quantidade do produto 4\"))\n",
    "valor4   = float(input(\"Insira o valor do produto 4\"))\n",
    "\n",
    "quantidadeXpreco1 = produto1 * valor1\n",
    "quantidadeXpreco2 = produto2 * valor2\n",
    "quantidadeXpreco3 = produto3 * valor3\n",
    "quantidadeXpreco4 = produto4 * valor4\n",
    "\n",
    "if quantidadeXpreco1 <= quantidadeXpreco2 <= quantidadeXpreco3 <= quantidadeXpreco4:\n",
    "    "
   ]
  },
  {
   "cell_type": "code",
   "execution_count": 42,
   "metadata": {},
   "outputs": [
    {
     "name": "stdout",
     "output_type": "stream",
     "text": [
      "Acesso permitido\n"
     ]
    }
   ],
   "source": [
    "# Exercício 3\n",
    "\"\"\"Desenvolva um programa que permita ao usuário inserir seu nome de usuário, senha e uma palavra-chave. Em seguida, crie uma lógica para verificar o nome de usuário, senha e palavra-chave. Caso estejam corretos, exiba \"Acesso permitido\". Caso haja duas falhas de entrada, informe que o usuário será bloqueado.\n",
    "\"\"\"\n",
    "\n",
    "nomeUsuario   = \"admin\"\n",
    "senha         = \"admin1920\"\n",
    "palavra_chave = \"key\"\n",
    "\n",
    "nomeUsuarioinp  = input(\"Insira seu nome de usuário\")\n",
    "senhainp        = input(\"Insira sua senha\")\n",
    "palavrachaveinp = input(\"Insira sua palavra-chave\")\n",
    "\n",
    "if nomeUsuarioinp == nomeUsuario:\n",
    "    if senhainp == senha:\n",
    "        if palavrachaveinp == palavra_chave:\n",
    "            print(\"Acesso permitido\")\n"
   ]
  },
  {
   "cell_type": "code",
   "execution_count": null,
   "metadata": {},
   "outputs": [],
   "source": [
    "# Exercício 4\n",
    "\"\"\"Desenvolva um conversor de moeda que permita ao usuário inserir a moeda que deseja converter. Em seguida, crie uma estrutura para converter a moeda escolhida para três moedas selecionadas pelo usuário. Você definirá a relação de conversão das moedas.\"\"\"\n"
   ]
  },
  {
   "cell_type": "code",
   "execution_count": null,
   "metadata": {},
   "outputs": [],
   "source": [
    "# Exercício 5\n",
    "\"\"\"Crie um programa para calcular a média ponderada de 4 valores de vendas com entrada de dados pelo usuário. Em seguida, exiba a porcentagem de cada valor de venda em relação à média ponderada.\"\"\"\n"
   ]
  },
  {
   "cell_type": "code",
   "execution_count": null,
   "metadata": {},
   "outputs": [],
   "source": [
    "# Exercício 6 \n",
    "\"\"\"Você é responsável pela verificação dos passaportes dos passageiros que chegam ao aeroporto internacional. Desenvolva um programa que permita a entrada dos dados do passageiro (nome, nacionalidade e número do passaporte) e verifique se o passaporte é americano, britânico, alemão ou brasileiro. Se o passageiro for brasileiro, exiba uma mensagem de boas-vindas e informe que não é necessário visto para entrada no país. Caso contrário, exiba uma mensagem informando que o passageiro precisa verificar os requisitos de visto para entrada no país.\"\"\"\n"
   ]
  }
 ],
 "metadata": {
  "kernelspec": {
   "display_name": "Python 3",
   "language": "python",
   "name": "python3"
  },
  "language_info": {
   "codemirror_mode": {
    "name": "ipython",
    "version": 3
   },
   "file_extension": ".py",
   "mimetype": "text/x-python",
   "name": "python",
   "nbconvert_exporter": "python",
   "pygments_lexer": "ipython3",
   "version": "3.9.6"
  }
 },
 "nbformat": 4,
 "nbformat_minor": 2
}
