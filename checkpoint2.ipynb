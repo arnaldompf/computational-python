{
 "cells": [
  {
   "cell_type": "code",
   "execution_count": null,
   "metadata": {},
   "outputs": [],
   "source": [
    "# 1. \n",
    "\n",
    "v = 300000\n",
    "forca = [500, 1000, 1500, 2000, 2500, 3000]\n",
    "\n",
    "massa = []\n",
    "\n",
    "for i in forca:\n",
    "    m = i / (v**2)\n",
    "    massa.append(m)\n",
    "\n",
    "print(\"Lista de valores de massa:\", massa)"
   ]
  },
  {
   "cell_type": "code",
   "execution_count": null,
   "metadata": {},
   "outputs": [],
   "source": [
    "# 2.\n",
    "\n",
    "n = []\n",
    "c = []\n",
    "\n",
    "contador = 0\n",
    "\n",
    "while contador < 4:\n",
    "    nome = input(\"Insira um nome\")\n",
    "    cpf = input(\"Insira um CPF\")\n",
    "\n",
    "    n.append(nome)\n",
    "    c.append(cpf)\n",
    "\n",
    "    contador += 1\n",
    "\n",
    "print(\"Nomes:\", n)\n",
    "print(\"CPF:\", c)"
   ]
  },
  {
   "cell_type": "code",
   "execution_count": null,
   "metadata": {},
   "outputs": [],
   "source": [
    "# 3.\n",
    "\n",
    "salarios = [1800, 2500, 3200, 4200, 5000]\n",
    "\n",
    "salario10 = []\n",
    "salario20 = []\n",
    "salario30 = []\n",
    "\n",
    "for i in salarios:\n",
    "    if i <= 2000:\n",
    "        desconto = i * 0.10\n",
    "        salarioliquido = i - desconto\n",
    "        salario10.append(salarioliquido)\n",
    "    elif 2000 < i <= 4000:\n",
    "        desconto = i * 0.20\n",
    "        salarioliquido = i - desconto\n",
    "        salario20.append(salarioliquido)\n",
    "    else:\n",
    "        desconto = i * 0.30\n",
    "        salarioliquido = i - desconto\n",
    "        salario30.append(salarioliquido)\n",
    "\n",
    "print(\"Lista salarios 10%:\", salario10)\n",
    "print(\"Lista salarios 20%:\", salario20)\n",
    "print(\"Lista salarios 30%:\", salario30)"
   ]
  },
  {
   "cell_type": "code",
   "execution_count": 16,
   "metadata": {},
   "outputs": [
    {
     "name": "stdout",
     "output_type": "stream",
     "text": [
      "Total de compras do Usuário 1: R$ {totalusuario1}\n",
      "Valor médio das compras do Usuário 1: R$ 2.0\n",
      "\n",
      "Total de compras do Usuário 2: R$ 10.0\n",
      "Valor médio das compras do Usuário 2: R$ 2.0\n"
     ]
    }
   ],
   "source": [
    "# 4.\n",
    "\n",
    "nprodutos = 5\n",
    "\n",
    "usuario1 = []\n",
    "usuario2 = []\n",
    "\n",
    "totalusuario1 = 0\n",
    "for i in range(nprodutos):\n",
    "    produto = float(input(f\"Valor do produto primeiro usuario {i + 1}\"))\n",
    "    usuario1.append(produto)\n",
    "    totalusuario1 += produto\n",
    "\n",
    "totalusuario2 = 0\n",
    "for i in range(nprodutos):\n",
    "    produto = float(input(f\"Valor do produto segundo usuario {i + 1}\"))\n",
    "    usuario2.append(produto)\n",
    "    totalusuario2 += produto\n",
    "\n",
    "mediausuario1 = totalusuario1 / nprodutos\n",
    "mediausuario2 = totalusuario2 / nprodutos\n",
    "\n",
    "print(f\"Total de compras do Usuário 1: R$ {totalusuario1}\")\n",
    "print(f\"Valor médio das compras do Usuário 1: R$ {mediausuario1}\")\n",
    "\n",
    "print(f\"\\nTotal de compras do Usuário 2: R$ {totalusuario2}\")\n",
    "print(f\"Valor médio das compras do Usuário 2: R$ {mediausuario2}\")"
   ]
  },
  {
   "cell_type": "code",
   "execution_count": null,
   "metadata": {},
   "outputs": [],
   "source": [
    "# 5.\n",
    "\n",
    "listaprodutos = ['notebook', 'ssd', 'mouse', 'teclado', 'monitor']\n",
    "produtoscomprados = []\n",
    "\n",
    "contador = 0\n",
    "while contador < 5:\n",
    "    produto = float(input(f\"Produto\" + {contador + 1}))\n",
    "    produtoscomprados.append(produto)\n",
    "    contador += 1\n",
    "\n",
    "quantidadeprodutos = {}\n",
    "for produto in produtoscomprados:\n",
    "    if produto in listaprodutos:\n",
    "        if produto in quantidadeprodutos:\n",
    "            quantidadeprodutos[produto] += 1\n",
    "        else:\n",
    "            quantidadeprodutos[produto] = 1\n",
    "\n",
    "print(\"Quantidade de produtos adquiridos:\")\n",
    "for produto, quantidade in quantidadeprodutos.items():\n",
    "    print(\"Produto\", contador + 1, quantidade)"
   ]
  }
 ],
 "metadata": {
  "kernelspec": {
   "display_name": "Python 3",
   "language": "python",
   "name": "python3"
  },
  "language_info": {
   "codemirror_mode": {
    "name": "ipython",
    "version": 3
   },
   "file_extension": ".py",
   "mimetype": "text/x-python",
   "name": "python",
   "nbconvert_exporter": "python",
   "pygments_lexer": "ipython3",
   "version": "3.9.6"
  }
 },
 "nbformat": 4,
 "nbformat_minor": 2
}
