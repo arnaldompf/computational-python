{
 "cells": [
  {
   "cell_type": "code",
   "execution_count": null,
   "metadata": {},
   "outputs": [],
   "source": [
    "# Exercício 1\n",
    "# Crie uma estrutura para mostrr se a pessoa é uma criança, adolescente, adulto ou idoso em função da idade.\n",
    "\n",
    "# idade < 12 - criança\n",
    "# idade < 18 - adolescente\n",
    "# idade < 60 - adulto\n",
    "# idade > 60 - idoso\n",
    "\n"
   ]
  },
  {
   "cell_type": "code",
   "execution_count": null,
   "metadata": {},
   "outputs": [],
   "source": [
    "# Exemplos com uma lista de tuplas\n",
    "\n",
    "lista_tuplas = [('maça', 2), ('banana', 5), ('laranja', 10), ('morango', 3)]\n",
    "print(lista_tuplas)\n",
    "\n",
    "ordena = sorted(lista_tuplas, key = lambda x: x[0])\n",
    "print(ordena)"
   ]
  },
  {
   "cell_type": "code",
   "execution_count": null,
   "metadata": {},
   "outputs": [],
   "source": [
    "palavras = ['casa', 'moto', 'carro', 'caminhão']\n",
    "\n",
    "selecao_caractere = list(filter(lambda z: z.startswith('c'), palavras))\n",
    "print(selecao_caractere)"
   ]
  },
  {
   "cell_type": "code",
   "execution_count": null,
   "metadata": {},
   "outputs": [],
   "source": [
    "nomes = ['ana', 'john', 'mark', 'camila']\n",
    "\n",
    "texto_formatado = list(map(lambda x: f\"Olá {x}!\", nomes))\n",
    "print(texto_formatado)"
   ]
  }
 ],
 "metadata": {
  "kernelspec": {
   "display_name": "Python 3",
   "language": "python",
   "name": "python3"
  },
  "language_info": {
   "codemirror_mode": {
    "name": "ipython",
    "version": 3
   },
   "file_extension": ".py",
   "mimetype": "text/x-python",
   "name": "python",
   "nbconvert_exporter": "python",
   "pygments_lexer": "ipython3",
   "version": "3.9.6"
  }
 },
 "nbformat": 4,
 "nbformat_minor": 2
}
