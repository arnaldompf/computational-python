{
 "cells": [
  {
   "cell_type": "code",
   "execution_count": null,
   "metadata": {},
   "outputs": [],
   "source": [
    "# 2. Crie uma função que retorne as seguintes operações (soma, subtração, divisão e multiplicação).\n",
    "# Crie uma estrutura a qual retorne os resultados separados. Utilize 4 números."
   ]
  }
 ],
 "metadata": {
  "language_info": {
   "name": "python"
  }
 },
 "nbformat": 4,
 "nbformat_minor": 2
}
