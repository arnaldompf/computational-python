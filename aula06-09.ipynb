{
 "cells": [
  {
   "cell_type": "code",
   "execution_count": null,
   "metadata": {},
   "outputs": [],
   "source": [
    "# 2. Crie uma função que retorne as seguintes operações (soma, subtração, divisão e multiplicação).\n",
    "# Crie uma estrutura a qual retorne os resultados separados. Utilize 4 números."
   ]
  },
  {
   "cell_type": "code",
   "execution_count": null,
   "metadata": {},
   "outputs": [],
   "source": [
    "# 3. Crie uma funçao que retorne a soma e média de uma lista.\n",
    "\n",
    "lista = [10, 20, 30, 40, 50]"
   ]
  },
  {
   "cell_type": "code",
   "execution_count": null,
   "metadata": {},
   "outputs": [],
   "source": [
    "# 4. Crie uma função para retornar a soma e média de cada lista, além da soma e média entre as três listas.\n",
    "\n",
    "lista1 = [10, 20, 30, 40, 50]\n",
    "lista2 = [5, 10, 15, 20, 25, 30, 35, 40, 45, 50]\n",
    "lista3 = [5, 10, 15, 20, 25, 30, 35, 40, 45, 50, 55, 60, 65, 70]"
   ]
  }
 ],
 "metadata": {
  "language_info": {
   "name": "python"
  }
 },
 "nbformat": 4,
 "nbformat_minor": 2
}
