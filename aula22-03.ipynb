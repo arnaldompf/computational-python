{
 "cells": [
  {
   "cell_type": "code",
   "execution_count": 20,
   "metadata": {},
   "outputs": [
    {
     "name": "stdout",
     "output_type": "stream",
     "text": [
      "A média do aluno é: 3.00\n",
      "Situação do aluno: Reprovado\n"
     ]
    }
   ],
   "source": [
    "# Calcular média das três notas do aluno\n",
    "# Se <7 aprovado, <= exame e <4 reprovado\n",
    "# Porém se tiver um artigo publicado aprovado independente da nota\n",
    "\n",
    "def calcular_media(nota1, nota2, nota3):\n",
    "    return (nota1 + nota2 + nota3) / 3\n",
    "\n",
    "def verificar_situacao(media, artigo_publicado):\n",
    "    if artigo_publicado:\n",
    "        return \"Aprovado (Artigo Publicado)\"\n",
    "    elif media >= 7:\n",
    "        return \"Aprovado\"\n",
    "    elif media >= 4:\n",
    "        return \"Exame\"\n",
    "    else:\n",
    "        return \"Reprovado\"\n",
    "\n",
    "def main():\n",
    "    nota1 = float(input(\"Digite a primeira nota: \"))\n",
    "    nota2 = float(input(\"Digite a segunda nota: \"))\n",
    "    nota3 = float(input(\"Digite a terceira nota: \"))\n",
    "    artigo_publicado = input(\"O aluno possui artigo publicado? (S/N): \").upper() == \"S\"\n",
    "    \n",
    "    media = calcular_media(nota1, nota2, nota3)\n",
    "    situacao = verificar_situacao(media, artigo_publicado)\n",
    "    \n",
    "    print(f\"A média do aluno é: {media:.2f}\")\n",
    "    print(f\"Situação do aluno: {situacao}\")\n",
    "\n",
    "if __name__ == \"__main__\":\n",
    "    main()"
   ]
  },
  {
   "cell_type": "code",
   "execution_count": 24,
   "metadata": {},
   "outputs": [
    {
     "name": "stdout",
     "output_type": "stream",
     "text": [
      "Você será multado e devera pagar R$ 25.0\n"
     ]
    }
   ],
   "source": [
    "# Solicite ao usuario a velocidade do veiculo \n",
    "# Limite 80km/h, caso esteja acima multa de R$5.00 a cada km/h acima do permitido\n",
    "\n",
    "velocidade = float(input(\"entre com a velocidade\"))\n",
    "\n",
    "if velocidade > 80:\n",
    "    print(\"Você será multado e devera pagar R$\", (velocidade - 80)*5)\n",
    "else:\n",
    "    print(\"Velocidade dentro do permitido\")"
   ]
  },
  {
   "cell_type": "code",
   "execution_count": 28,
   "metadata": {},
   "outputs": [
    {
     "name": "stdout",
     "output_type": "stream",
     "text": [
      "Adulto\n"
     ]
    }
   ],
   "source": [
    "# Solicite ao usuario a idade \n",
    "# Caso criança <12 / adolescente 12 <= idade <18 / adulto 18 <= idade <65 / idoso idade >= 65\n",
    "\n",
    "idade = int(input(\"Insira idade\"))\n",
    "\n",
    "if idade <12:\n",
    "    print(\"Criança\")\n",
    "elif 12<= idade <18:\n",
    "    print(\"Adolescente\")\n",
    "elif 18<= idade <65:\n",
    "    print(\"Adulto\")\n",
    "else:\n",
    "    print(\"Idoso\")\n"
   ]
  },
  {
   "cell_type": "code",
   "execution_count": 39,
   "metadata": {},
   "outputs": [
    {
     "name": "stdout",
     "output_type": "stream",
     "text": [
      "O numero é par\n"
     ]
    }
   ],
   "source": [
    "# Solicite ao usuario um número e diga se é par ou impar\n",
    "\n",
    "numero = int(input(\"Insira um número\"))\n",
    "\n",
    "if numero % 2 == 0:\n",
    "    print(\"O numero é par\")\n",
    "else:\n",
    "    print(\"O numero é impar\")"
   ]
  },
  {
   "cell_type": "code",
   "execution_count": 42,
   "metadata": {},
   "outputs": [
    {
     "name": "stdout",
     "output_type": "stream",
     "text": [
      "O maior número é: 3.0\n"
     ]
    }
   ],
   "source": [
    "# Solicite ao usuario inserir três numeros \n",
    "# Compare e diga qual deles é maior\n",
    "\n",
    "n1 = float(input(\"Insira o primeiro número\"))\n",
    "n2 = float(input(\"Insira o segundo número\"))\n",
    "n3 = float(input(\"Insira o terceiro número\"))\n",
    "\n",
    "def encontrar_maior(a, b, c):\n",
    "    if a >= b and a >= c:\n",
    "        return a\n",
    "    elif b >= a and b >= c:\n",
    "        return b\n",
    "    else:\n",
    "        return c\n",
    "\n",
    "maior_numero = encontrar_maior(n1, n2, n3)\n",
    "    \n",
    "print(\"O maior número é:\", maior_numero)\n",
    "    \n"
   ]
  }
 ],
 "metadata": {
  "language_info": {
   "name": "python"
  }
 },
 "nbformat": 4,
 "nbformat_minor": 2
}
