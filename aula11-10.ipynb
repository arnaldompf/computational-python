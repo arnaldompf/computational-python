{
 "cells": [
  {
   "cell_type": "code",
   "execution_count": null,
   "metadata": {},
   "outputs": [],
   "source": [
    "# Exercício 1\n",
    "\n",
    "for i in range(1, 11):\n",
    "    for k in range(1, 11):\n",
    "        print(f\"{i} x {k} = {i*k}\")"
   ]
  },
  {
   "cell_type": "code",
   "execution_count": null,
   "metadata": {},
   "outputs": [],
   "source": [
    "# Exercício 2\n",
    "\n",
    "alunos1 = [7, 8, 9, 10, 6]\n",
    "alunos2 = [8, 9, 10, 5, 7]\n",
    "\n",
    "for nota1 in alunos1:\n",
    "    for nota2 in alunos2:\n",
    "      if nota1 == nota2:\n",
    "        print(f'Nota igual encontrada: {nota1}')\n"
   ]
  },
  {
   "cell_type": "code",
   "execution_count": null,
   "metadata": {},
   "outputs": [],
   "source": [
    "# Exercício 3\n",
    "\n",
    "lista1 = [1, 2, 3]\n",
    "lista2 = [4, 5, 6]\n",
    "\n",
    "for i in range(len(lista1)):\n",
    "    for k in range(len(lista2)):\n",
    "        if i == k:\n",
    "            print(f'A soma dos elementos na posição {i} é {lista1[i] + lista2[k]}')"
   ]
  },
  {
   "cell_type": "code",
   "execution_count": null,
   "metadata": {},
   "outputs": [],
   "source": [
    "palavras = ['python', 'matlab', 'javascript', 'vscode', 'spyder']\n",
    "\n",
    "vogais = 'aeiou'\n",
    "\n",
    "for palavra in palavras:\n",
    "    count_vogais = 0\n",
    "\n",
    "    for letra in palavra:\n",
    "        if letra in vogais:\n",
    "            count_vogais += 1\n",
    "\n",
    "    print(f'A palavra {palavra} tem {count_vogais} vogais')"
   ]
  },
  {
   "cell_type": "code",
   "execution_count": null,
   "metadata": {},
   "outputs": [],
   "source": [
    "# Exercícios \n",
    "\n",
    "# 1. Crie uma estrutura para mostrar uma tabuada que calcule a multiplicação de números de 2 a 6.\n",
    "\n",
    "# 2. Crie uma estrutura para contar as consoantes nas palavras da lista abaixo.\n",
    "lista_palavras = ['brazil', 'inglaterra', 'estados unidos', 'canada', 'chile']\n",
    "\n",
    "# 3. Crie uma estrutura para verificar se as palavras chave aparecem nos parágrafos.\n",
    "lista_texto = ['hoje é sexta-feita', 'em 2022, tivemos a copa do mundo', 'a melhor forma de estudar python é praticar']\n",
    "palavras_chave = ['hoje', 'mundo', 'estudar', 'praticar']"
   ]
  },
  {
   "cell_type": "code",
   "execution_count": null,
   "metadata": {},
   "outputs": [],
   "source": [
    "# 1.\n",
    "\n",
    "for i in range(2, 6):\n",
    "    for k in range(2, 6):\n",
    "        print(f\"{i} x {k} = {i*k}\")"
   ]
  },
  {
   "cell_type": "code",
   "execution_count": null,
   "metadata": {},
   "outputs": [],
   "source": [
    "# 2.\n",
    "\n",
    "palavras = ['brazil', 'inglaterra', 'estados unidos', 'canada', 'chile']\n",
    "\n",
    "consoantes = 'bcdfghjklmnpqrstvwxyz'\n",
    "\n",
    "for palavra in palavras:\n",
    "    count_consoantes = 0\n",
    "\n",
    "    for letra in palavra:\n",
    "        if letra in vogais:\n",
    "            count_consoantes += 1\n",
    "\n",
    "    print(f'A palavra {palavra} tem {count_consoantes} consoantes')"
   ]
  },
  {
   "cell_type": "code",
   "execution_count": 10,
   "metadata": {},
   "outputs": [
    {
     "name": "stdout",
     "output_type": "stream",
     "text": [
      "A lista_texto \"hoje é sexta-feita\" tem 1 palavras_chave\n",
      "A lista_texto \"em 2022, tivemos a copa do mundo\" tem 1 palavras_chave\n",
      "A lista_texto \"a melhor forma de estudar python é praticar\" tem 2 palavras_chave\n"
     ]
    }
   ],
   "source": [
    "# 3.\n",
    "\n",
    "lista_texto = ['hoje é sexta-feita', 'em 2022, tivemos a copa do mundo', 'a melhor forma de estudar python é praticar']\n",
    "\n",
    "palavras_chave = ['hoje', 'mundo', 'estudar', 'praticar']\n",
    "\n",
    "for texto in lista_texto:\n",
    "    count_palavras_chave = 0\n",
    "\n",
    "    for palavra in palavras_chave:\n",
    "        if palavra in texto:\n",
    "            count_palavras_chave += 1\n",
    "\n",
    "    print(f'A lista_texto \"{texto}\" tem {count_palavras_chave} palavras_chave')\n",
    "\n"
   ]
  }
 ],
 "metadata": {
  "kernelspec": {
   "display_name": "Python 3",
   "language": "python",
   "name": "python3"
  },
  "language_info": {
   "codemirror_mode": {
    "name": "ipython",
    "version": 3
   },
   "file_extension": ".py",
   "mimetype": "text/x-python",
   "name": "python",
   "nbconvert_exporter": "python",
   "pygments_lexer": "ipython3",
   "version": "3.9.6"
  }
 },
 "nbformat": 4,
 "nbformat_minor": 2
}
