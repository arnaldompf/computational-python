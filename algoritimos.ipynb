{
 "cells": [
  {
   "cell_type": "code",
   "execution_count": 2,
   "metadata": {},
   "outputs": [
    {
     "name": "stdout",
     "output_type": "stream",
     "text": [
      "A é maior do que B\n"
     ]
    }
   ],
   "source": [
    "A = float(input(\"Digite o valor de A: \"))\n",
    "B = float(input(\"Digite o valor de B: \"))\n",
    "\n",
    "if A > B:\n",
    "    print(\"A é maior do que B\")\n",
    "else: \n",
    "    print(\"B é maior do que A\")"
   ]
  },
  {
   "cell_type": "code",
   "execution_count": 1,
   "metadata": {},
   "outputs": [
    {
     "name": "stdout",
     "output_type": "stream",
     "text": [
      "A área do círculo é: 7853.75\n"
     ]
    }
   ],
   "source": [
    "raio = float(input(\"Digite o raio do círculo\"))\n",
    "area = 3.1415 * raio ** 2\n",
    "\n",
    "print(\"A área do círculo é:\", area)"
   ]
  },
  {
   "cell_type": "code",
   "execution_count": 3,
   "metadata": {},
   "outputs": [
    {
     "name": "stdout",
     "output_type": "stream",
     "text": [
      "A média das notas é: 6.333333333333333\n"
     ]
    }
   ],
   "source": [
    "nota1 = float(input(\"Digite a primeira nota\"))\n",
    "nota2 = float(input(\"Digite a segunda nota\"))\n",
    "nota3 = float(input(\"Digite a terceira nota\"))\n",
    "\n",
    "media = (nota1 + nota2 + nota3) / 3\n",
    "print(\"A média das notas é:\", media)"
   ]
  }
 ],
 "metadata": {
  "kernelspec": {
   "display_name": "Python 3",
   "language": "python",
   "name": "python3"
  },
  "language_info": {
   "codemirror_mode": {
    "name": "ipython",
    "version": 3
   },
   "file_extension": ".py",
   "mimetype": "text/x-python",
   "name": "python",
   "nbconvert_exporter": "python",
   "pygments_lexer": "ipython3",
   "version": "3.9.6"
  }
 },
 "nbformat": 4,
 "nbformat_minor": 2
}
