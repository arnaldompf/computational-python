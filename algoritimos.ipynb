{
 "cells": [
  {
   "cell_type": "code",
   "execution_count": 3,
   "metadata": {},
   "outputs": [
    {
     "name": "stdout",
     "output_type": "stream",
     "text": [
      "A é maior do que B\n"
     ]
    }
   ],
   "source": [
    "A = float(input(\"Digite o valor de A: \"))\n",
    "B = float(input(\"Digite o valor de B: \"))\n",
    "\n",
    "if A > B:\n",
    "    print(\"A é maior do que B\")\n",
    "else: \n",
    "    print(\"B é maior do que A\")"
   ]
  }
 ],
 "metadata": {
  "kernelspec": {
   "display_name": "Python 3",
   "language": "python",
   "name": "python3"
  },
  "language_info": {
   "codemirror_mode": {
    "name": "ipython",
    "version": 3
   },
   "file_extension": ".py",
   "mimetype": "text/x-python",
   "name": "python",
   "nbconvert_exporter": "python",
   "pygments_lexer": "ipython3",
   "version": "3.11.8"
  }
 },
 "nbformat": 4,
 "nbformat_minor": 2
}
